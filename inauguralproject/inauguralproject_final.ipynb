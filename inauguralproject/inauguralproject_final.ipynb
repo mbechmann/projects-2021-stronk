{
 "cells": [
  {
   "cell_type": "code",
   "execution_count": 12,
   "metadata": {},
   "outputs": [],
   "source": [
    "import numpy as np\n",
    "import math\n",
    "from statistics import mean\n",
    "from scipy import optimize \n",
    "import matplotlib.pyplot as plt\n",
    "\n",
    "%load_ext autoreload\n",
    "%autoreload 2"
   ]
  },
  {
   "cell_type": "code",
   "execution_count": null,
   "metadata": {},
   "outputs": [],
   "source": []
  },
  {
   "cell_type": "code",
   "execution_count": 36,
   "metadata": {},
   "outputs": [
    {
     "name": "stdout",
     "output_type": "stream",
     "text": [
      "optimal housing: h = 4.16667\n",
      "optimal consumption: c = 0.35000\n",
      "max utility: u  = 0.73584\n"
     ]
    }
   ],
   "source": [
    "m=0.5\n",
    "parameters = {'p_bar': 3,'phi': 0.3, 'epsilon': 0.5, 'r': 0.03, 'tau_g':0.012, 'tau_p': 0.004}\n",
    "def u_func(c, h, parameters):\n",
    "    #this function take account of the args: c(float) with is amount of comsumption, and h(float) which is amount of housing\n",
    "    return c**(1-parameters['phi'])*(h**parameters['phi'])\n",
    "    \n",
    "\n",
    "\n",
    "def c_func(h, m, parameters):\n",
    "    #this function takes account of cash and amount of housing where we see m=cash\n",
    "    return m - parameters['r']*h - parameters['tau_g'] * h * parameters['epsilon'] - parameters['tau_p'] * max(h*parameters['epsilon']-parameters['p_bar'],0)\n",
    "\n",
    "\n",
    "\n",
    "def obj_func(h, m, parameters):\n",
    "    #This is a function that is supposed to be minimized and give us an objective function\n",
    "    c = c_func(h, m, parameters)\n",
    "    return -u_func(c, h, parameters)\n",
    "   \n",
    "\n",
    "\n",
    "\n",
    "\n",
    "def solver(m, parameters):\n",
    "    #this is a solver, that will gives us the best amount of h given the constraints.\n",
    "    return optimize.minimize_scalar(objective_func, args=(m, parameters), \n",
    "                                   bounds= None)\n",
    "                                    \n",
    "h_best = solver(m, parameters).x\n",
    "c_best = c_func(h_best, m, parameters)\n",
    "u_best = u_func(c_best, h_best, parameters)\n",
    "\n",
    "                                    \n",
    "print(f'optimal housing: h = {h_best:.5f}')\n",
    "print(f'optimal consumption: c = {c_best:.5f}')\n",
    "print(f'max utility: u  = {u_best:.5f}')"
   ]
  },
  {
   "cell_type": "code",
   "execution_count": 34,
   "metadata": {},
   "outputs": [
    {
     "data": {
      "image/png": "[encoded data removed]",
      "text/plain": [
       "<Figure size 432x288 with 2 Axes>"
      ]
     },
     "metadata": {
      "needs_background": "light"
     },
     "output_type": "display_data"
    }
   ],
   "source": [
    "#We plot c* and h* as a function of cash on hand (m), we will therefore run a loop, and for each amount of cash on hand, we will store values of c* and h* respectively in lists\n",
    "#And then we plot them against m\n",
    "c_list=[]\n",
    "h_list=[]\n",
    "m_list=[]\n",
    "\n",
    "for m in np.arange(0.4, 1.5, 0.01):\n",
    "    h_best = solver(m, parameters).x\n",
    "    c_best = c_func(h_best, m, parameters)\n",
    "    h_list.append(h_best) \n",
    "    c_list.append(c_best)\n",
    "    m_list.append(m)\n",
    "\n",
    "\n",
    "    #c and h as a function of m. first h plot(left)\n",
    "fig = plt.figure()\n",
    "ax_left = fig.add_subplot(1,2,1)\n",
    "ax_left.plot(m_list,h_list)\n",
    "ax_left.set_title('$h^*$ plotted against m')\n",
    "ax_left.set_xlabel('$m$')\n",
    "ax_left.set_ylabel('$h^*$')\n",
    "ax_left.grid(False)\n",
    "\n",
    "#right plot\n",
    "ax_right = fig.add_subplot(1,2,2)\n",
    "\n",
    "ax_right.plot(m_list,c_list)\n",
    "\n",
    "ax_right.set_title(' $c^*$ plotted against m')\n",
    "ax_right.set_xlabel('$m$')\n",
    "ax_right.set_ylabel('$c^*$')\n",
    "ax_right.grid(False)\n",
    "plt.tight_layout()"
   ]
  },
  {
   "cell_type": "code",
   "execution_count": 38,
   "metadata": {},
   "outputs": [
    {
     "ename": "SyntaxError",
     "evalue": "invalid syntax (<ipython-input-38-c5ffed3cd1e4>, line 21)",
     "output_type": "error",
     "traceback": [
      "\u001b[1;36m  File \u001b[1;32m\"<ipython-input-38-c5ffed3cd1e4>\"\u001b[1;36m, line \u001b[1;32m21\u001b[0m\n\u001b[1;33m    print(f 'average tax burden: {mean(householdtax):,5f}')\u001b[0m\n\u001b[1;37m            ^\u001b[0m\n\u001b[1;31mSyntaxError\u001b[0m\u001b[1;31m:\u001b[0m invalid syntax\n"
     ]
    }
   ],
   "source": [
    "#We could not figure out a way to make average tax burden as a function, but our first thought was to use a random seed, and then running it through a loop, but defining our function \n",
    "# was the main problem. Our tries to get it right is posted below\n",
    "\n",
    "np.random.seed(17)\n",
    "\n",
    "def tax(h,parameters):\n",
    "    return parameters['tau_g']*h*paramters['episolon']+paramters['tau_p']*max(h*parameters['epsilon']-paramters['p_bar'],0)\n",
    "\n",
    "#Here is where we hit a problem we could not figure out a way to get the average tax, our idea was to make a randomly generated value of m in a log normal distribution, but we could not\n",
    "# find a suitable code to do it with. but if we could get it right, we would have finished with a loop using our solver from earlier and an empty list like earlier, to get the average\n",
    "#tax burden. Listed below is a try to do it, but gives error\n",
    "\n",
    "random_m=random.lognormal(0.35,-0.4,10000)\n",
    "\n",
    "householdtax=[]\n",
    "\n",
    "for m in random_m:\n",
    "    h_best=solver(m, parameters).x\n",
    "    householdtax.append(tax(h_best, parameters))\n",
    "    \n",
    "print(f 'average tax burden: {mean(householdtax):,5f}')\n",
    "\n"
   ]
  },
  {
   "cell_type": "code",
   "execution_count": null,
   "metadata": {},
   "outputs": [],
   "source": [
    "#since we could not get a proper answer in 3, its hard to get a proper answer in 4 and 5, therefore i have not listed anything as an attempt.\n",
    "#But the only thing to do differently in 4, is to change variables and do the same thing again.\n",
    "\n",
    "#in 5 we would optimize tau_g and make a loop that would optimize tau_g, finding the best possible tau_g and then running question 3 again, getting the new average tax burden."
   ]
  }
 ],
 "metadata": {
  "kernelspec": {
   "display_name": "Python 3",
   "language": "python",
   "name": "python3"
  },
  "language_info": {
   "codemirror_mode": {
    "name": "ipython",
    "version": 3
   },
   "file_extension": ".py",
   "mimetype": "text/x-python",
   "name": "python",
   "nbconvert_exporter": "python",
   "pygments_lexer": "ipython3",
   "version": "3.8.5"
  }
 },
 "nbformat": 4,
 "nbformat_minor": 4
}
